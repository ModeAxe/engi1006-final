{
 "cells": [
  {
   "cell_type": "code",
   "execution_count": 1,
   "metadata": {},
   "outputs": [],
   "source": [
    "import lyricsgenius"
   ]
  },
  {
   "cell_type": "code",
   "execution_count": 20,
   "metadata": {},
   "outputs": [],
   "source": [
    "import billboard as bd"
   ]
  },
  {
   "cell_type": "code",
   "execution_count": 3,
   "metadata": {},
   "outputs": [],
   "source": [
    "genius = lyricsgenius.Genius(\"xvsgeeURdAOqyv5N3UECKJbno6y1P91qQYYO-OFjAvGP3GZMN7SoRNHIpNk7EgWp\")"
   ]
  },
  {
   "cell_type": "code",
   "execution_count": 5,
   "metadata": {},
   "outputs": [
    {
     "name": "stdout",
     "output_type": "stream",
     "text": [
      "Searching for songs by Andy Shauf...\n",
      "\n",
      "Song 1: \"Alexander All Alone\"\n",
      "Song 2: \"All the Same\"\n",
      "Song 3: \"Angela\"\n",
      "\n",
      "Reached user-specified song limit (3).\n",
      "Done. Found 3 songs.\n",
      "[('Alexander All Alone', 'Andy Shauf'), ('All the Same', 'Andy Shauf'), ('Angela', 'Andy Shauf')]\n"
     ]
    }
   ],
   "source": [
    "artist = genius.search_artist(\"Andy Shauf\", max_songs=3, sort=\"title\")\n",
    "print(artist.songs)"
   ]
  },
  {
   "cell_type": "code",
   "execution_count": 11,
   "metadata": {},
   "outputs": [
    {
     "name": "stdout",
     "output_type": "stream",
     "text": [
      "Searching for \"Ballin\" by DJ Mustard...\n",
      "Done.\n"
     ]
    }
   ],
   "source": [
    "song = genius.search_song(\"Ballin\", \"DJ Mustard\")"
   ]
  },
  {
   "cell_type": "code",
   "execution_count": 17,
   "metadata": {},
   "outputs": [
    {
     "data": {
      "text/plain": [
       "732"
      ]
     },
     "execution_count": 17,
     "metadata": {},
     "output_type": "execute_result"
    }
   ],
   "source": [
    "song.lyrics.lower().find(\"nip\")"
   ]
  },
  {
   "cell_type": "code",
   "execution_count": 19,
   "metadata": {},
   "outputs": [
    {
     "data": {
      "text/plain": [
       "'N'"
      ]
     },
     "execution_count": 19,
     "metadata": {},
     "output_type": "execute_result"
    }
   ],
   "source": [
    "song.lyrics[732]"
   ]
  },
  {
   "cell_type": "code",
   "execution_count": 25,
   "metadata": {},
   "outputs": [],
   "source": [
    "charts = []\n",
    "dates = [\"2019-04-28\", \"2019-05-28\", \"2019-06-28\", \"2019-07-28\", \"2019-08-28\", \"2019-09-28\",\"2019-10-28\", \"2019-11-28\", \"2019-12-28\", \"2020-01-28\", \"2020-02-28\", \"2020-03-28\"]\n",
    "for i in dates:\n",
    "    charts.append(bd.ChartData(\"hot-100\", i))\n",
    "    "
   ]
  },
  {
   "cell_type": "code",
   "execution_count": 26,
   "metadata": {},
   "outputs": [
    {
     "data": {
      "text/plain": [
       "[billboard.ChartData('hot-100', date='2019-05-04'),\n",
       " billboard.ChartData('hot-100', date='2019-06-01'),\n",
       " billboard.ChartData('hot-100', date='2019-06-29'),\n",
       " billboard.ChartData('hot-100', date='2019-08-03'),\n",
       " billboard.ChartData('hot-100', date='2019-08-31'),\n",
       " billboard.ChartData('hot-100', date='2019-09-28'),\n",
       " billboard.ChartData('hot-100', date='2019-11-02'),\n",
       " billboard.ChartData('hot-100', date='2019-11-30'),\n",
       " billboard.ChartData('hot-100', date='2019-12-28'),\n",
       " billboard.ChartData('hot-100', date='2020-02-01'),\n",
       " billboard.ChartData('hot-100', date='2020-02-29'),\n",
       " billboard.ChartData('hot-100', date='2020-03-28')]"
      ]
     },
     "execution_count": 26,
     "metadata": {},
     "output_type": "execute_result"
    }
   ],
   "source": [
    "charts"
   ]
  },
  {
   "cell_type": "code",
   "execution_count": null,
   "metadata": {},
   "outputs": [],
   "source": []
  }
 ],
 "metadata": {
  "kernelspec": {
   "display_name": "Python 3",
   "language": "python",
   "name": "python3"
  },
  "language_info": {
   "codemirror_mode": {
    "name": "ipython",
    "version": 3
   },
   "file_extension": ".py",
   "mimetype": "text/x-python",
   "name": "python",
   "nbconvert_exporter": "python",
   "pygments_lexer": "ipython3",
   "version": "3.7.3"
  }
 },
 "nbformat": 4,
 "nbformat_minor": 4
}
